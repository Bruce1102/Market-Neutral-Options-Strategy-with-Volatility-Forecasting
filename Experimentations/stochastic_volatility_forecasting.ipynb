{
 "cells": [
  {
   "cell_type": "code",
   "execution_count": 1,
   "metadata": {},
   "outputs": [],
   "source": [
    "from src.stoch_modelling import JDMSimulator, CorrelatedJDMSimulator, CIRJumpModel\n",
    "from src.linear_factor_model import LinearFactorModel\n",
    "import pandas as pd\n",
    "import numpy as np\n",
    "from src.data_handling import load_csv_data, filter_data_by_year_range, append_string_to_elements"
   ]
  },
  {
   "cell_type": "code",
   "execution_count": 2,
   "metadata": {},
   "outputs": [
    {
     "data": {
      "text/html": [
       "<div>\n",
       "<style scoped>\n",
       "    .dataframe tbody tr th:only-of-type {\n",
       "        vertical-align: middle;\n",
       "    }\n",
       "\n",
       "    .dataframe tbody tr th {\n",
       "        vertical-align: top;\n",
       "    }\n",
       "\n",
       "    .dataframe thead th {\n",
       "        text-align: right;\n",
       "    }\n",
       "</style>\n",
       "<table border=\"1\" class=\"dataframe\">\n",
       "  <thead>\n",
       "    <tr style=\"text-align: right;\">\n",
       "      <th></th>\n",
       "      <th>AAPL_Open</th>\n",
       "      <th>AAPL_High</th>\n",
       "      <th>AAPL_Low</th>\n",
       "      <th>AAPL_Close</th>\n",
       "      <th>AAPL_Adj Close</th>\n",
       "      <th>AAPL_Volume</th>\n",
       "      <th>AMZN_Open</th>\n",
       "      <th>AMZN_High</th>\n",
       "      <th>AMZN_Low</th>\n",
       "      <th>AMZN_Close</th>\n",
       "      <th>...</th>\n",
       "      <th>VIX_High</th>\n",
       "      <th>VIX_Low</th>\n",
       "      <th>VIX_Close</th>\n",
       "      <th>VIX_Adj Close</th>\n",
       "      <th>IRX_Open</th>\n",
       "      <th>IRX_High</th>\n",
       "      <th>IRX_Low</th>\n",
       "      <th>IRX_Close</th>\n",
       "      <th>IRX_Adj Close</th>\n",
       "      <th>Year</th>\n",
       "    </tr>\n",
       "    <tr>\n",
       "      <th>Date</th>\n",
       "      <th></th>\n",
       "      <th></th>\n",
       "      <th></th>\n",
       "      <th></th>\n",
       "      <th></th>\n",
       "      <th></th>\n",
       "      <th></th>\n",
       "      <th></th>\n",
       "      <th></th>\n",
       "      <th></th>\n",
       "      <th></th>\n",
       "      <th></th>\n",
       "      <th></th>\n",
       "      <th></th>\n",
       "      <th></th>\n",
       "      <th></th>\n",
       "      <th></th>\n",
       "      <th></th>\n",
       "      <th></th>\n",
       "      <th></th>\n",
       "      <th></th>\n",
       "    </tr>\n",
       "  </thead>\n",
       "  <tbody>\n",
       "    <tr>\n",
       "      <th>2015-01-02</th>\n",
       "      <td>27.847500</td>\n",
       "      <td>27.860001</td>\n",
       "      <td>26.837500</td>\n",
       "      <td>27.332500</td>\n",
       "      <td>24.531765</td>\n",
       "      <td>212818400.0</td>\n",
       "      <td>15.6290</td>\n",
       "      <td>15.7375</td>\n",
       "      <td>15.3480</td>\n",
       "      <td>15.4260</td>\n",
       "      <td>...</td>\n",
       "      <td>20.139999</td>\n",
       "      <td>17.049999</td>\n",
       "      <td>17.790001</td>\n",
       "      <td>17.790001</td>\n",
       "      <td>0.030</td>\n",
       "      <td>0.030</td>\n",
       "      <td>0.015</td>\n",
       "      <td>0.015</td>\n",
       "      <td>0.015</td>\n",
       "      <td>2015</td>\n",
       "    </tr>\n",
       "    <tr>\n",
       "      <th>2015-01-05</th>\n",
       "      <td>27.072500</td>\n",
       "      <td>27.162500</td>\n",
       "      <td>26.352501</td>\n",
       "      <td>26.562500</td>\n",
       "      <td>23.840672</td>\n",
       "      <td>257142000.0</td>\n",
       "      <td>15.3505</td>\n",
       "      <td>15.4190</td>\n",
       "      <td>15.0425</td>\n",
       "      <td>15.1095</td>\n",
       "      <td>...</td>\n",
       "      <td>21.290001</td>\n",
       "      <td>19.190001</td>\n",
       "      <td>19.920000</td>\n",
       "      <td>19.920000</td>\n",
       "      <td>0.008</td>\n",
       "      <td>0.018</td>\n",
       "      <td>0.003</td>\n",
       "      <td>0.003</td>\n",
       "      <td>0.003</td>\n",
       "      <td>2015</td>\n",
       "    </tr>\n",
       "    <tr>\n",
       "      <th>2015-01-06</th>\n",
       "      <td>26.635000</td>\n",
       "      <td>26.857500</td>\n",
       "      <td>26.157499</td>\n",
       "      <td>26.565001</td>\n",
       "      <td>23.842909</td>\n",
       "      <td>263188400.0</td>\n",
       "      <td>15.1120</td>\n",
       "      <td>15.1500</td>\n",
       "      <td>14.6190</td>\n",
       "      <td>14.7645</td>\n",
       "      <td>...</td>\n",
       "      <td>22.900000</td>\n",
       "      <td>19.520000</td>\n",
       "      <td>21.120001</td>\n",
       "      <td>21.120001</td>\n",
       "      <td>0.023</td>\n",
       "      <td>0.023</td>\n",
       "      <td>0.018</td>\n",
       "      <td>0.020</td>\n",
       "      <td>0.020</td>\n",
       "      <td>2015</td>\n",
       "    </tr>\n",
       "    <tr>\n",
       "      <th>2015-01-07</th>\n",
       "      <td>26.799999</td>\n",
       "      <td>27.049999</td>\n",
       "      <td>26.674999</td>\n",
       "      <td>26.937500</td>\n",
       "      <td>24.177242</td>\n",
       "      <td>160423600.0</td>\n",
       "      <td>14.8750</td>\n",
       "      <td>15.0640</td>\n",
       "      <td>14.7665</td>\n",
       "      <td>14.9210</td>\n",
       "      <td>...</td>\n",
       "      <td>20.719999</td>\n",
       "      <td>19.040001</td>\n",
       "      <td>19.309999</td>\n",
       "      <td>19.309999</td>\n",
       "      <td>0.023</td>\n",
       "      <td>0.025</td>\n",
       "      <td>0.020</td>\n",
       "      <td>0.020</td>\n",
       "      <td>0.020</td>\n",
       "      <td>2015</td>\n",
       "    </tr>\n",
       "    <tr>\n",
       "      <th>2015-01-08</th>\n",
       "      <td>27.307501</td>\n",
       "      <td>28.037500</td>\n",
       "      <td>27.174999</td>\n",
       "      <td>27.972500</td>\n",
       "      <td>25.106180</td>\n",
       "      <td>237458000.0</td>\n",
       "      <td>15.0160</td>\n",
       "      <td>15.1570</td>\n",
       "      <td>14.8055</td>\n",
       "      <td>15.0230</td>\n",
       "      <td>...</td>\n",
       "      <td>18.090000</td>\n",
       "      <td>16.990000</td>\n",
       "      <td>17.010000</td>\n",
       "      <td>17.010000</td>\n",
       "      <td>0.020</td>\n",
       "      <td>0.020</td>\n",
       "      <td>0.015</td>\n",
       "      <td>0.018</td>\n",
       "      <td>0.018</td>\n",
       "      <td>2015</td>\n",
       "    </tr>\n",
       "  </tbody>\n",
       "</table>\n",
       "<p>5 rows × 35 columns</p>\n",
       "</div>"
      ],
      "text/plain": [
       "            AAPL_Open  AAPL_High   AAPL_Low  AAPL_Close  AAPL_Adj Close  \\\n",
       "Date                                                                      \n",
       "2015-01-02  27.847500  27.860001  26.837500   27.332500       24.531765   \n",
       "2015-01-05  27.072500  27.162500  26.352501   26.562500       23.840672   \n",
       "2015-01-06  26.635000  26.857500  26.157499   26.565001       23.842909   \n",
       "2015-01-07  26.799999  27.049999  26.674999   26.937500       24.177242   \n",
       "2015-01-08  27.307501  28.037500  27.174999   27.972500       25.106180   \n",
       "\n",
       "            AAPL_Volume  AMZN_Open  AMZN_High  AMZN_Low  AMZN_Close  ...  \\\n",
       "Date                                                                 ...   \n",
       "2015-01-02  212818400.0    15.6290    15.7375   15.3480     15.4260  ...   \n",
       "2015-01-05  257142000.0    15.3505    15.4190   15.0425     15.1095  ...   \n",
       "2015-01-06  263188400.0    15.1120    15.1500   14.6190     14.7645  ...   \n",
       "2015-01-07  160423600.0    14.8750    15.0640   14.7665     14.9210  ...   \n",
       "2015-01-08  237458000.0    15.0160    15.1570   14.8055     15.0230  ...   \n",
       "\n",
       "             VIX_High    VIX_Low  VIX_Close  VIX_Adj Close  IRX_Open  \\\n",
       "Date                                                                   \n",
       "2015-01-02  20.139999  17.049999  17.790001      17.790001     0.030   \n",
       "2015-01-05  21.290001  19.190001  19.920000      19.920000     0.008   \n",
       "2015-01-06  22.900000  19.520000  21.120001      21.120001     0.023   \n",
       "2015-01-07  20.719999  19.040001  19.309999      19.309999     0.023   \n",
       "2015-01-08  18.090000  16.990000  17.010000      17.010000     0.020   \n",
       "\n",
       "            IRX_High  IRX_Low  IRX_Close  IRX_Adj Close  Year  \n",
       "Date                                                           \n",
       "2015-01-02     0.030    0.015      0.015          0.015  2015  \n",
       "2015-01-05     0.018    0.003      0.003          0.003  2015  \n",
       "2015-01-06     0.023    0.018      0.020          0.020  2015  \n",
       "2015-01-07     0.025    0.020      0.020          0.020  2015  \n",
       "2015-01-08     0.020    0.015      0.018          0.018  2015  \n",
       "\n",
       "[5 rows x 35 columns]"
      ]
     },
     "execution_count": 2,
     "metadata": {},
     "output_type": "execute_result"
    }
   ],
   "source": [
    "DATA_PATH = \"DATA/processed/df.csv\"\n",
    "\n",
    "df = load_csv_data(DATA_PATH)\n",
    "df.head()\n",
    "\n",
    "MODELING_YEARS = (2015, 2025)\n",
    "\n",
    "df = filter_data_by_year_range(df, *MODELING_YEARS)\n",
    "df.head()"
   ]
  },
  {
   "cell_type": "code",
   "execution_count": 3,
   "metadata": {},
   "outputs": [],
   "source": [
    "CORR_JDM_FACTORS = [\"AAPL_Close\", \"MSFT_Close\", \"AMZN_Close\"]\n",
    "LFM_FACTORS = [\"AAPL_Close\", \"MSFT_Close\", \"AMZN_Close\", \"VIX_Close\", \"IRX_Close\"]\n",
    "N_SIM = 1000\n",
    "n_days = 7\n",
    "\n",
    "temp = df.iloc[:50]\n",
    "\n",
    "\n",
    "class StochasticVolForecast:\n",
    "    def __init__(self, data, lfm_factors, corr_jdm_factors, jdm_factor = 'VIX_Close', cirj_factor = 'IRX_Close', lfm_target = 'SPX_Close'):\n",
    "\n",
    "\n",
    "        self.data             = data\n",
    "        self.lfm_factors      = lfm_factors\n",
    "        self.corr_jdm_factors = corr_jdm_factors\n",
    "        self.jdm_factor       = jdm_factor\n",
    "        self.cirj_factor      = cirj_factor\n",
    "        self.lfm_target       = lfm_target\n",
    "        self.initial_price    = data[lfm_target].iloc[-1]\n",
    "\n",
    "        self.corr_jdm_model = None\n",
    "        self.jdm_model      = None\n",
    "        self.cirj_model     = None\n",
    "        self.lfm_model      = None\n",
    "\n",
    "    def fit_models(self):\n",
    "        \n",
    "        # Initialise models\n",
    "        corr_jdm_model = CorrelatedJDMSimulator()\n",
    "        jdm_model      = JDMSimulator(model = \"Merton\")\n",
    "        cirj_model     = CIRJumpModel()\n",
    "        lfm_model      = LinearFactorModel()\n",
    "\n",
    "        # Estimating parameters for models\n",
    "        corr_jdm_model.estimate_parameters(self.data[CORR_JDM_FACTORS].values)\n",
    "        jdm_model.estimate_parameters(self.data[self.jdm_factor].values)\n",
    "        cirj_model.estimate_parameters(self.data[self.cirj_factor].values)\n",
    "        lfm_model.fit(self.data[self.lfm_target].values, self.data[self.lfm_factors].values)\n",
    "\n",
    "        # set initial price\n",
    "        corr_jdm_model.initial_prices = temp[CORR_JDM_FACTORS].iloc[0]\n",
    "        jdm_model.initial_price = temp['VIX_Close'].iloc[0]\n",
    "        cirj_model.initial_rate = temp['IRX_Close'].iloc[0]\n",
    "\n",
    "        # setting object attributes\n",
    "        self.corr_jdm_model = corr_jdm_model\n",
    "        self.jdm_model      = jdm_model\n",
    "        self.cirj_model     = cirj_model\n",
    "        self.lfm_model      = lfm_model\n",
    "\n",
    "    def simulate_portfolio_path(self, n_days):\n",
    "        corr_jdm_sim = self.corr_jdm_model.simulate(n_days)\n",
    "        jdm_sim      = self.jdm_model.simulate(n_days-1).reshape(-1,1)\n",
    "        cirj_sim     = self.cirj_model.simulate(n_days-1).reshape(-1,1)\n",
    "\n",
    "        sim_concat = np.hstack((corr_jdm_sim, jdm_sim, cirj_sim))\n",
    "\n",
    "        return self.lfm_model.predict(sim_concat)\n",
    "\n",
    "\n",
    "    def forecast_volatility(self, n_days, n_simulations = 10_000):\n",
    "            \"\"\"Forecast volatility using Monte Carlo simulations.\"\"\"\n",
    "            volatilities = []\n",
    "            for _ in range(n_simulations):\n",
    "                portfolio_path = self.simulate_portfolio_path(n_days)\n",
    "                returns = np.diff(np.log(portfolio_path))\n",
    "                volatility = np.std(returns)\n",
    "                volatilities.append(volatility)\n",
    "            return np.mean(volatilities)*self.initial_price"
   ]
  },
  {
   "cell_type": "code",
   "execution_count": 4,
   "metadata": {},
   "outputs": [
    {
     "name": "stderr",
     "output_type": "stream",
     "text": [
      "c:\\Users\\bruce\\Desktop\\Imperial\\Sem 3\\AP\\CODE\\src\\stoch_modelling.py:195: RuntimeWarning: divide by zero encountered in log\n",
      "  likelihoods.append(np.log(likelihood))\n",
      "c:\\Users\\bruce\\anaconda3\\lib\\site-packages\\scipy\\optimize\\_numdiff.py:576: RuntimeWarning: invalid value encountered in subtract\n",
      "  df = fun(x) - f0\n"
     ]
    },
    {
     "data": {
      "text/plain": [
       "5.241002745281607"
      ]
     },
     "execution_count": 4,
     "metadata": {},
     "output_type": "execute_result"
    }
   ],
   "source": [
    "stoch_vol = StochasticVolForecast(temp, LFM_FACTORS, CORR_JDM_FACTORS)\n",
    "stoch_vol.fit_models()\n",
    "stoch_vol.forecast_volatility(7, 1000)"
   ]
  },
  {
   "cell_type": "code",
   "execution_count": 5,
   "metadata": {},
   "outputs": [
    {
     "ename": "NameError",
     "evalue": "name 'asset_model' is not defined",
     "output_type": "error",
     "traceback": [
      "\u001b[1;31m---------------------------------------------------------------------------\u001b[0m",
      "\u001b[1;31mNameError\u001b[0m                                 Traceback (most recent call last)",
      "\u001b[1;32m~\\AppData\\Local\\Temp\\ipykernel_15504\\1351613857.py\u001b[0m in \u001b[0;36m<module>\u001b[1;34m\u001b[0m\n\u001b[1;32m----> 1\u001b[1;33m \u001b[0masset_sim\u001b[0m \u001b[1;33m=\u001b[0m \u001b[0masset_model\u001b[0m\u001b[1;33m.\u001b[0m\u001b[0msimulate\u001b[0m\u001b[1;33m(\u001b[0m\u001b[0mn_days\u001b[0m\u001b[1;33m)\u001b[0m\u001b[1;33m\u001b[0m\u001b[1;33m\u001b[0m\u001b[0m\n\u001b[0m\u001b[0;32m      2\u001b[0m \u001b[0mvix_sim\u001b[0m \u001b[1;33m=\u001b[0m \u001b[0mvix_model\u001b[0m\u001b[1;33m.\u001b[0m\u001b[0msimulate\u001b[0m\u001b[1;33m(\u001b[0m\u001b[0mn_days\u001b[0m\u001b[1;33m-\u001b[0m\u001b[1;36m1\u001b[0m\u001b[1;33m)\u001b[0m\u001b[1;33m.\u001b[0m\u001b[0mreshape\u001b[0m\u001b[1;33m(\u001b[0m\u001b[1;33m-\u001b[0m\u001b[1;36m1\u001b[0m\u001b[1;33m,\u001b[0m\u001b[1;36m1\u001b[0m\u001b[1;33m)\u001b[0m\u001b[1;33m\u001b[0m\u001b[1;33m\u001b[0m\u001b[0m\n\u001b[0;32m      3\u001b[0m \u001b[0mirx_sim\u001b[0m \u001b[1;33m=\u001b[0m \u001b[0mirx_model\u001b[0m\u001b[1;33m.\u001b[0m\u001b[0msimulate\u001b[0m\u001b[1;33m(\u001b[0m\u001b[0mn_days\u001b[0m\u001b[1;33m-\u001b[0m\u001b[1;36m1\u001b[0m\u001b[1;33m)\u001b[0m\u001b[1;33m.\u001b[0m\u001b[0mreshape\u001b[0m\u001b[1;33m(\u001b[0m\u001b[1;33m-\u001b[0m\u001b[1;36m1\u001b[0m\u001b[1;33m,\u001b[0m\u001b[1;36m1\u001b[0m\u001b[1;33m)\u001b[0m\u001b[1;33m\u001b[0m\u001b[1;33m\u001b[0m\u001b[0m\n\u001b[0;32m      4\u001b[0m \u001b[1;33m\u001b[0m\u001b[0m\n",
      "\u001b[1;31mNameError\u001b[0m: name 'asset_model' is not defined"
     ]
    }
   ],
   "source": [
    "asset_sim = asset_model.simulate(n_days)\n",
    "vix_sim = vix_model.simulate(n_days-1).reshape(-1,1)\n",
    "irx_sim = irx_model.simulate(n_days-1).reshape(-1,1)\n",
    "\n"
   ]
  },
  {
   "cell_type": "code",
   "execution_count": null,
   "metadata": {},
   "outputs": [
    {
     "data": {
      "text/plain": [
       "array([2047.12974742, 2043.78750159, 2052.28007512, 2048.02645186,\n",
       "       2045.85958385, 2038.51582822, 2040.34372982])"
      ]
     },
     "execution_count": 18,
     "metadata": {},
     "output_type": "execute_result"
    }
   ],
   "source": [
    "lfm.predict(sim_concat)"
   ]
  },
  {
   "cell_type": "code",
   "execution_count": null,
   "metadata": {},
   "outputs": [
    {
     "data": {
      "text/plain": [
       "Date\n",
       "2015-01-02    2058.199951\n",
       "2015-01-05    2020.579956\n",
       "2015-01-06    2002.609985\n",
       "2015-01-07    2025.900024\n",
       "2015-01-08    2062.139893\n",
       "2015-01-09    2044.810059\n",
       "2015-01-12    2028.260010\n",
       "2015-01-13    2023.030029\n",
       "2015-01-14    2011.270020\n",
       "2015-01-15    1992.670044\n",
       "2015-01-16    2019.420044\n",
       "2015-01-19    2020.985046\n",
       "2015-01-20    2022.550049\n",
       "2015-01-21    2032.119995\n",
       "2015-01-22    2063.149902\n",
       "2015-01-23    2051.820068\n",
       "2015-01-26    2057.090088\n",
       "2015-01-27    2029.550049\n",
       "2015-01-28    2002.160034\n",
       "2015-01-29    2021.250000\n",
       "2015-01-30    1994.989990\n",
       "2015-02-02    2020.849976\n",
       "2015-02-03    2050.030029\n",
       "2015-02-04    2041.510010\n",
       "2015-02-05    2062.520020\n",
       "2015-02-06    2055.469971\n",
       "2015-02-09    2046.739990\n",
       "2015-02-10    2068.590088\n",
       "2015-02-11    2068.530029\n",
       "2015-02-12    2088.479980\n",
       "2015-02-13    2096.989990\n",
       "2015-02-16    2098.665039\n",
       "2015-02-17    2100.340088\n",
       "2015-02-18    2099.679932\n",
       "2015-02-19    2097.449951\n",
       "2015-02-20    2110.300049\n",
       "2015-02-23    2109.659912\n",
       "2015-02-24    2115.479980\n",
       "2015-02-25    2113.860107\n",
       "2015-02-26    2110.739990\n",
       "2015-02-27    2104.500000\n",
       "2015-03-02    2117.389893\n",
       "2015-03-03    2107.780029\n",
       "2015-03-04    2098.530029\n",
       "2015-03-05    2101.040039\n",
       "2015-03-06    2071.260010\n",
       "2015-03-09    2079.429932\n",
       "2015-03-10    2044.160034\n",
       "2015-03-11    2040.239990\n",
       "2015-03-12    2065.949951\n",
       "Name: SPX_Close, dtype: float64"
      ]
     },
     "execution_count": 19,
     "metadata": {},
     "output_type": "execute_result"
    }
   ],
   "source": []
  },
  {
   "cell_type": "code",
   "execution_count": null,
   "metadata": {},
   "outputs": [
    {
     "data": {
      "text/plain": [
       "array([[27.3325    , 46.759998  , 15.426     ],\n",
       "       [27.52266245, 47.28317865, 15.43977788],\n",
       "       [27.58069781, 46.25440253, 15.34445958],\n",
       "       [27.47126999, 46.91052381, 15.61397121],\n",
       "       [27.59302863, 47.28059926, 15.86364348],\n",
       "       [28.02267905, 47.04302202, 15.88894032],\n",
       "       [28.64653948, 48.01780254, 16.00509444]])"
      ]
     },
     "execution_count": 11,
     "metadata": {},
     "output_type": "execute_result"
    }
   ],
   "source": [
    "asset_sim"
   ]
  },
  {
   "cell_type": "code",
   "execution_count": null,
   "metadata": {},
   "outputs": [
    {
     "data": {
      "text/plain": [
       "AAPL_Close    27.332500\n",
       "MSFT_Close    46.759998\n",
       "AMZN_Close    15.426000\n",
       "Name: 2015-01-02 00:00:00, dtype: float64"
      ]
     },
     "execution_count": 12,
     "metadata": {},
     "output_type": "execute_result"
    }
   ],
   "source": []
  },
  {
   "cell_type": "code",
   "execution_count": null,
   "metadata": {},
   "outputs": [
    {
     "data": {
      "text/plain": [
       "array([[1.]])"
      ]
     },
     "execution_count": 26,
     "metadata": {},
     "output_type": "execute_result"
    }
   ],
   "source": []
  },
  {
   "cell_type": "code",
   "execution_count": null,
   "metadata": {},
   "outputs": [],
   "source": []
  }
 ],
 "metadata": {
  "kernelspec": {
   "display_name": "base",
   "language": "python",
   "name": "python3"
  },
  "language_info": {
   "codemirror_mode": {
    "name": "ipython",
    "version": 3
   },
   "file_extension": ".py",
   "mimetype": "text/x-python",
   "name": "python",
   "nbconvert_exporter": "python",
   "pygments_lexer": "ipython3",
   "version": "3.9.13"
  },
  "orig_nbformat": 4
 },
 "nbformat": 4,
 "nbformat_minor": 2
}
